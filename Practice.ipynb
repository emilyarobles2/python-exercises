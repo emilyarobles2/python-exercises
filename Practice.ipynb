{
 "cells": [
  {
   "cell_type": "markdown",
   "id": "d91d8e92-7af1-46ba-a29e-144782e72858",
   "metadata": {},
   "source": [
    "## Practicing Python Exercises\n"
   ]
  },
  {
   "cell_type": "markdown",
   "id": "4d13769a-3114-4147-a183-5f18988a3621",
   "metadata": {},
   "source": [
    "### Functions: Calculator\n",
    "Write four functions:\n",
    "  1. Adds the first number to the second one and returns the result\n",
    "  2. Subtracts the second number from the first number and returns the result\n",
    "  3. Multiplies first number by the second number\n",
    "  4. Divides first number by the second number and returns the result"
   ]
  },
  {
   "cell_type": "code",
   "execution_count": 3,
   "id": "ffdf9ef3-03c3-4e69-8dc9-c66422187cd6",
   "metadata": {},
   "outputs": [
    {
     "data": {
      "text/plain": [
       "9"
      ]
     },
     "execution_count": 3,
     "metadata": {},
     "output_type": "execute_result"
    }
   ],
   "source": [
    "def first(x, y):\n",
    "    '''\n",
    "    Function that adds the first number (x) to the second\n",
    "    (y) and returns the result\n",
    "    '''\n",
    "    return x + y\n",
    "\n",
    "first(4, 5)"
   ]
  },
  {
   "cell_type": "code",
   "execution_count": 4,
   "id": "b346fe2c-57fe-41e9-b301-3351b7efd30c",
   "metadata": {},
   "outputs": [
    {
     "data": {
      "text/plain": [
       "1"
      ]
     },
     "execution_count": 4,
     "metadata": {},
     "output_type": "execute_result"
    }
   ],
   "source": [
    "def second(x, y):\n",
    "    '''\n",
    "    Function that subtracts the second number(y)\n",
    "    from the first(x) and returns the result\n",
    "    '''\n",
    "    return y - x\n",
    "\n",
    "second(4, 5)"
   ]
  },
  {
   "cell_type": "code",
   "execution_count": 10,
   "id": "678ba399-92e5-4589-b6c7-8b60200cb578",
   "metadata": {},
   "outputs": [
    {
     "data": {
      "text/plain": [
       "14"
      ]
     },
     "execution_count": 10,
     "metadata": {},
     "output_type": "execute_result"
    }
   ],
   "source": [
    "def third(x, y):\n",
    "    '''\n",
    "    Function that multiplies the first \n",
    "    number (x) by the second number (y)\n",
    "    '''\n",
    "    return x * y\n",
    "\n",
    "third(2, 7)"
   ]
  },
  {
   "cell_type": "code",
   "execution_count": 9,
   "id": "bb25324b-d767-4246-ae82-81df7fb59336",
   "metadata": {},
   "outputs": [
    {
     "data": {
      "text/plain": [
       "3.0"
      ]
     },
     "execution_count": 9,
     "metadata": {},
     "output_type": "execute_result"
    }
   ],
   "source": [
    "def fourth(x, y):\n",
    "    '''\n",
    "    Function that divides the first \n",
    "    number (x) by the second number (y)\n",
    "    '''\n",
    "    return x / y\n",
    "\n",
    "fourth(6, 2)"
   ]
  },
  {
   "cell_type": "markdown",
   "id": "0039c310-5d6a-4d5d-8e20-9db465c5961f",
   "metadata": {},
   "source": [
    "### Count Substring\n",
    "In this challenge, the user enters a string and a substring. You have to print the number of times that the substring occurs in the given string. String traversal will take place from left to right, not from right to left.\n",
    "\n",
    "NOTE: String letters are case-sensitive.\n",
    "\n",
    "Sample Input\n",
    "\n",
    "ABCDCDC\n",
    "CDC\n",
    "\n",
    "Sample Output\n",
    "\n",
    "2"
   ]
  },
  {
   "cell_type": "code",
   "execution_count": 15,
   "id": "c68984d9-680c-466e-bbcd-252040fc1ffc",
   "metadata": {},
   "outputs": [],
   "source": [
    "def countsubstring(string, sub_string):\n",
    "    '''\n",
    "    Function that takes a string and substring. \n",
    "    Returns the number of times the substring occurs\n",
    "    within the string.\n",
    "    '''\n",
    "    count = 0\n",
    "    for i in range(len(string)):\n",
    "        if string[i:].startswith(sub_string):\n",
    "            count += 1\n",
    "    return count\n",
    "    "
   ]
  },
  {
   "cell_type": "code",
   "execution_count": 17,
   "id": "c4cabc82-d6c9-4077-8b53-04e59bc1e2f1",
   "metadata": {},
   "outputs": [
    {
     "data": {
      "text/plain": [
       "1"
      ]
     },
     "execution_count": 17,
     "metadata": {},
     "output_type": "execute_result"
    }
   ],
   "source": [
    "countsubstring('ABBABABACDE', 'ABB')"
   ]
  },
  {
   "cell_type": "code",
   "execution_count": null,
   "id": "027175fc-ac1b-4d04-aaf6-2fa39c74d3e9",
   "metadata": {},
   "outputs": [],
   "source": []
  },
  {
   "cell_type": "code",
   "execution_count": null,
   "id": "04e8c124-2fcc-47a1-ad84-660da287a502",
   "metadata": {},
   "outputs": [],
   "source": []
  }
 ],
 "metadata": {
  "kernelspec": {
   "display_name": "Python 3 (ipykernel)",
   "language": "python",
   "name": "python3"
  },
  "language_info": {
   "codemirror_mode": {
    "name": "ipython",
    "version": 3
   },
   "file_extension": ".py",
   "mimetype": "text/x-python",
   "name": "python",
   "nbconvert_exporter": "python",
   "pygments_lexer": "ipython3",
   "version": "3.10.9"
  }
 },
 "nbformat": 4,
 "nbformat_minor": 5
}
